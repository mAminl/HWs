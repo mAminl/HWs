{
  "nbformat": 4,
  "nbformat_minor": 0,
  "metadata": {
    "colab": {
      "provenance": [],
      "include_colab_link": true
    },
    "kernelspec": {
      "name": "python3",
      "display_name": "Python 3"
    },
    "language_info": {
      "name": "python"
    },
    "accelerator": "GPU",
    "gpuClass": "standard"
  },
  "cells": [
    {
      "cell_type": "markdown",
      "metadata": {
        "id": "view-in-github",
        "colab_type": "text"
      },
      "source": [
        "<a href=\"https://colab.research.google.com/github/mAminl/HWs/blob/master/HW4_Q1_P2(GRU).ipynb\" target=\"_parent\"><img src=\"https://colab.research.google.com/assets/colab-badge.svg\" alt=\"Open In Colab\"/></a>"
      ]
    },
    {
      "cell_type": "markdown",
      "source": [
        "Mohammad Amin Latifi\n",
        "\n",
        "401300966\n",
        "\n",
        "HW4 Q1 Part2:\n",
        "Ferdowsi(GRU)\n",
        "\n",
        "Reference of the basic of the code structure is:\n",
        "\n",
        "https://pytorch.org/tutorials/intermediate/seq2seq_translation_tutorial.html"
      ],
      "metadata": {
        "id": "PObUKz8YjIfD"
      }
    },
    {
      "cell_type": "code",
      "execution_count": 1,
      "metadata": {
        "id": "n8WM1shejEh6"
      },
      "outputs": [],
      "source": [
        "%matplotlib inline"
      ]
    },
    {
      "cell_type": "code",
      "source": [
        "from __future__ import unicode_literals, print_function, division\n",
        "from io import open\n",
        "import unicodedata\n",
        "import string\n",
        "import re\n",
        "import random\n",
        "\n",
        "import torch\n",
        "import torch.nn as nn\n",
        "from torch import optim\n",
        "import torch.nn.functional as F\n",
        "\n",
        "device = torch.device(\"cuda\" if torch.cuda.is_available() else \"cpu\")"
      ],
      "metadata": {
        "id": "nDDc2jiuj-on"
      },
      "execution_count": 2,
      "outputs": []
    },
    {
      "cell_type": "code",
      "source": [
        "SOS_token = 0\n",
        "EOS_token = 1\n",
        "\n",
        "\n",
        "class Lang:\n",
        "    def __init__(self, name):\n",
        "        self.name = name\n",
        "        self.word2index = {}\n",
        "        self.word2count = {}\n",
        "        self.index2word = {0: \"SOS\", 1: \"EOS\"}\n",
        "        self.n_words = 2  # Count SOS and EOS\n",
        "\n",
        "    def addSentence(self, sentence):\n",
        "        for word in sentence.split(' '):\n",
        "            self.addWord(word)\n",
        "\n",
        "    def addWord(self, word):\n",
        "        if word not in self.word2index:\n",
        "            self.word2index[word] = self.n_words\n",
        "            self.word2count[word] = 1\n",
        "            self.index2word[self.n_words] = word\n",
        "            self.n_words += 1\n",
        "        else:\n",
        "            self.word2count[word] += 1\n"
      ],
      "metadata": {
        "id": "6QsOrki2kEXT"
      },
      "execution_count": 3,
      "outputs": []
    },
    {
      "cell_type": "code",
      "source": [
        "# Turn a Unicode string to plain ASCII, thanks to\n",
        "# https://stackoverflow.com/a/518232/2809427\n",
        "def unicodeToAscii(s):\n",
        "    return ''.join(\n",
        "        c for c in unicodedata.normalize('NFD', s)\n",
        "        if unicodedata.category(c) != 'Mn'\n",
        "    )\n",
        "\n",
        "# Lowercase, trim, and remove non-letter characters\n",
        "\n",
        "\n",
        "def normalizeString(s):\n",
        "    s = unicodeToAscii(s.lower().strip())\n",
        "    s = re.sub(r\"([.!?])\", r\" \\1\", s)\n",
        "    s = re.sub(r\"[^a-zA-Z.!?]+\", r\" \", s)\n",
        "    return s"
      ],
      "metadata": {
        "id": "ZsDuvBe7kIP2"
      },
      "execution_count": 4,
      "outputs": []
    },
    {
      "cell_type": "code",
      "source": [
        "def readLangs(lang1, lang2, reverse=False):\n",
        "    print(\"Reading lines...\")\n",
        "\n",
        "    # Read the file and split into lines\n",
        "    !gdown 14uWwVZ2CGW-t9VkNCS-Thb8s6T4YJRDo\n",
        "    lines = open('/content/ferdousi.txt', encoding='utf-8').\\\n",
        "        read().strip().split('\\n')\n",
        "\n",
        "    # Split every line into pairs and normalize\n",
        "    test_list = lines[2:]\n",
        "    test_list1 = test_list[::2]\n",
        "    test_list2 = test_list[1::2]\n",
        "\n",
        "    pairs = list(zip(test_list1, test_list2))\n",
        "    print(pairs[1])\n",
        "\n",
        "    # Reverse pairs, make Lang instances\n",
        "    if reverse:\n",
        "        pairs = [list(reversed(p)) for p in pairs]\n",
        "        input_lang = Lang(lang2)\n",
        "        output_lang = Lang(lang1)\n",
        "    else:\n",
        "        input_lang = Lang(lang1)\n",
        "        output_lang = Lang(lang2)\n",
        "\n",
        "    return input_lang, output_lang, pairs"
      ],
      "metadata": {
        "id": "gzSH6CB_kLjM"
      },
      "execution_count": 8,
      "outputs": []
    },
    {
      "cell_type": "code",
      "source": [
        "MAX_LENGTH = 14\n",
        "\n",
        "eng_prefixes = (\n",
        "    \"i am \", \"i m \",\n",
        "    \"he is\", \"he s \",\n",
        "    \"she is\", \"she s \",\n",
        "    \"you are\", \"you re \",\n",
        "    \"we are\", \"we re \",\n",
        "    \"they are\", \"they re \"\n",
        ")\n",
        "\n",
        "\n",
        "def filterPair(p):\n",
        "    return len(p[0].split(' ')) < MAX_LENGTH and \\\n",
        "        len(p[1].split(' ')) < MAX_LENGTH and \\\n",
        "        p[1].startswith(eng_prefixes)\n",
        "\n",
        "\n",
        "def filterPairs(pairs):\n",
        "    return [pair for pair in pairs if filterPair(pair)]"
      ],
      "metadata": {
        "id": "d5OdL7NfkOKz"
      },
      "execution_count": 6,
      "outputs": []
    },
    {
      "cell_type": "code",
      "source": [
        "def prepareData(lang1, lang2, reverse=False):\n",
        "    input_lang, output_lang, pairs = readLangs(lang1, lang2, reverse)\n",
        "    print(\"Read %s sentence pairs\" % len(pairs))\n",
        "    # pairs = filterPairs(pairs)\n",
        "    print(\"Trimmed to %s sentence pairs\" % len(pairs))\n",
        "    print(\"Counting words...\")\n",
        "    for pair in pairs:\n",
        "      \n",
        "        input_lang.addSentence(pair[0])\n",
        "        output_lang.addSentence(pair[1])\n",
        "    print(\"Counted words:\")\n",
        "    print(input_lang.name, input_lang.n_words)\n",
        "    print(output_lang.name, output_lang.n_words)\n",
        "    return input_lang, output_lang, pairs\n",
        "\n",
        "\n",
        "input_lang, output_lang, pairs = prepareData('Mesra1', 'Mesra2',False)\n",
        "print(random.choice(pairs))"
      ],
      "metadata": {
        "colab": {
          "base_uri": "https://localhost:8080/"
        },
        "id": "EWMlMozckROX",
        "outputId": "5c5e2a17-9c74-49ea-924d-1c7250d00137"
      },
      "execution_count": 9,
      "outputs": [
        {
          "output_type": "stream",
          "name": "stdout",
          "text": [
            "Reading lines...\n",
            "Downloading...\n",
            "From: https://drive.google.com/uc?id=14uWwVZ2CGW-t9VkNCS-Thb8s6T4YJRDo\n",
            "To: /content/ferdousi.txt\n",
            "100% 4.54M/4.54M [00:00<00:00, 255MB/s]\n",
            "('خداوند نام و خداوند جای', 'خداوند روزی ده رهنمای')\n",
            "Read 49608 sentence pairs\n",
            "Trimmed to 49608 sentence pairs\n",
            "Counting words...\n",
            "Counted words:\n",
            "Mesra1 12686\n",
            "Mesra2 13322\n",
            "('نوندی کجا بادبانش نکوست', 'به خوبی سزاوار کیخسرو اوست')\n"
          ]
        }
      ]
    },
    {
      "cell_type": "code",
      "source": [
        "class EncoderRNN(nn.Module):\n",
        "    def __init__(self, input_size, hidden_size):\n",
        "        super(EncoderRNN, self).__init__()\n",
        "        self.hidden_size = hidden_size\n",
        "\n",
        "        self.embedding = nn.Embedding(input_size, hidden_size)\n",
        "        self.gru = nn.GRU(hidden_size, hidden_size)\n",
        "\n",
        "    def forward(self, input, hidden):\n",
        "        embedded = self.embedding(input).view(1, 1, -1)\n",
        "        output = embedded\n",
        "        output, hidden = self.gru(output, hidden)\n",
        "        return output, hidden\n",
        "\n",
        "    def initHidden(self):\n",
        "        return torch.zeros(1, 1, self.hidden_size, device=device)"
      ],
      "metadata": {
        "id": "dv5wSsKRkYkR"
      },
      "execution_count": null,
      "outputs": []
    },
    {
      "cell_type": "code",
      "source": [
        "class DecoderRNN(nn.Module):\n",
        "    def __init__(self, hidden_size, output_size):\n",
        "        super(DecoderRNN, self).__init__()\n",
        "        self.hidden_size = hidden_size\n",
        "\n",
        "        self.embedding = nn.Embedding(output_size, hidden_size)\n",
        "        self.gru = nn.GRU(hidden_size, hidden_size)\n",
        "        self.out = nn.Linear(hidden_size, output_size)\n",
        "        self.softmax = nn.LogSoftmax(dim=1)\n",
        "\n",
        "    def forward(self, input, hidden):\n",
        "        output = self.embedding(input).view(1, 1, -1)\n",
        "        output = F.relu(output)\n",
        "        output, hidden = self.gru(output, hidden)\n",
        "        output = self.softmax(self.out(output[0]))\n",
        "        return output, hidden\n",
        "\n",
        "    def initHidden(self):\n",
        "        return torch.zeros(1, 1, self.hidden_size, device=device)"
      ],
      "metadata": {
        "id": "sgfdsxFnkeIr"
      },
      "execution_count": null,
      "outputs": []
    },
    {
      "cell_type": "code",
      "source": [
        "def indexesFromSentence(lang, sentence):\n",
        "    return [lang.word2index[word] for word in sentence.split(' ')]\n",
        "\n",
        "\n",
        "def tensorFromSentence(lang, sentence):\n",
        "    indexes = indexesFromSentence(lang, sentence)\n",
        "    indexes.append(EOS_token)\n",
        "    return torch.tensor(indexes, dtype=torch.long, device=device).view(-1, 1)\n",
        "\n",
        "\n",
        "def tensorsFromPair(pair):\n",
        "    input_tensor = tensorFromSentence(input_lang, pair[0])\n",
        "    target_tensor = tensorFromSentence(output_lang, pair[1])\n",
        "    return (input_tensor, target_tensor)"
      ],
      "metadata": {
        "id": "a9uXMKnokmHh"
      },
      "execution_count": null,
      "outputs": []
    },
    {
      "cell_type": "code",
      "source": [
        "teacher_forcing_ratio = 1\n",
        "\n",
        "\n",
        "def train(input_tensor, target_tensor, encoder, decoder, encoder_optimizer, decoder_optimizer, criterion, max_length=MAX_LENGTH):\n",
        "    encoder_hidden = encoder.initHidden()\n",
        "\n",
        "    encoder_optimizer.zero_grad()\n",
        "    decoder_optimizer.zero_grad()\n",
        "\n",
        "    input_length = input_tensor.size(0)\n",
        "    target_length = target_tensor.size(0)\n",
        "\n",
        "    encoder_outputs = torch.zeros(max_length, encoder.hidden_size, device=device)\n",
        "\n",
        "    loss = 0\n",
        "\n",
        "    for ei in range(input_length):\n",
        "        encoder_output, encoder_hidden = encoder(\n",
        "            input_tensor[ei], encoder_hidden)\n",
        "        encoder_outputs[ei] = encoder_output[0, 0]        \n",
        "            \n",
        "    decoder_input = torch.tensor([[SOS_token]], device=device)\n",
        "    decoder_hidden = encoder_hidden\n",
        "\n",
        "    use_teacher_forcing = True if random.random() < teacher_forcing_ratio else False\n",
        "\n",
        "    if use_teacher_forcing:\n",
        "        # Teacher forcing: Feed the target as the next input\n",
        "        for di in range(target_length):\n",
        "            decoder_output, decoder_hidden = decoder(\n",
        "                decoder_input, decoder_hidden)\n",
        "            loss += criterion(decoder_output, target_tensor[di])\n",
        "            decoder_input = target_tensor[di]  # Teacher forcing\n",
        "    else:\n",
        "        # Without teacher forcing: use its own predictions as the next input\n",
        "        for di in range(target_length):\n",
        "            decoder_output, decoder_hidden = decoder(\n",
        "                decoder_input, decoder_hidden)\n",
        "            topv, topi = decoder_output.topk(1)\n",
        "            decoder_input = topi.squeeze().detach()  # detach from history as input\n",
        "\n",
        "            loss += criterion(decoder_output, target_tensor[di])\n",
        "            if decoder_input.item() == EOS_token:\n",
        "                break\n",
        "\n",
        "    loss.backward()\n",
        "\n",
        "    encoder_optimizer.step()\n",
        "    decoder_optimizer.step()\n",
        "\n",
        "    return loss.item() / target_length"
      ],
      "metadata": {
        "id": "UyvOpQ3dkpVl"
      },
      "execution_count": null,
      "outputs": []
    },
    {
      "cell_type": "code",
      "source": [
        "import time\n",
        "import math\n",
        "\n",
        "\n",
        "def asMinutes(s):\n",
        "    m = math.floor(s / 60)\n",
        "    s -= m * 60\n",
        "    return '%dm %ds' % (m, s)\n",
        "\n",
        "\n",
        "def timeSince(since, percent):\n",
        "    now = time.time()\n",
        "    s = now - since\n",
        "    es = s / (percent)\n",
        "    rs = es - s\n",
        "    return '%s (- %s)' % (asMinutes(s), asMinutes(rs))"
      ],
      "metadata": {
        "id": "fr92dwVXkt-e"
      },
      "execution_count": null,
      "outputs": []
    },
    {
      "cell_type": "code",
      "source": [
        "def trainIters(encoder, decoder, n_epoch, print_every=1000, plot_every=10, learning_rate=1e-4):\n",
        "    start = time.time()\n",
        "    plot_losses = []\n",
        "    print_loss_total = 0  # Reset every print_every\n",
        "    plot_loss_total = 0  # Reset every plot_every\n",
        "\n",
        "    encoder_optimizer = optim.Adam(encoder.parameters(), lr=learning_rate)\n",
        "    decoder_optimizer = optim.Adam(decoder.parameters(), lr=learning_rate)\n",
        "    train_pairs = pairs[1:math.floor(len(pairs)*0.7)]\n",
        "    n_iters = math.floor(len(pairs)*0.7)-1\n",
        "\n",
        "    criterion = nn.CrossEntropyLoss()\n",
        "                         \n",
        "    for epoch in range(1,n_epoch+1):\n",
        "        training_pairs = [tensorsFromPair(random.choice(train_pairs))\n",
        "                      for i in range(n_iters)]\n",
        "        print(\"Epoch %d \\n\" % epoch)\n",
        "        for iter in range(1, n_iters + 1):\n",
        "            training_pair = training_pairs[iter - 1]\n",
        "            input_tensor = training_pair[0]\n",
        "            target_tensor = training_pair[1]\n",
        "\n",
        "            loss = train(input_tensor, target_tensor, encoder,\n",
        "                         decoder, encoder_optimizer, decoder_optimizer, criterion)\n",
        "            print_loss_total += loss\n",
        "            plot_loss_total += loss\n",
        "\n",
        "            if iter % print_every == 0:\n",
        "                print_loss_avg = print_loss_total / print_every\n",
        "                print_loss_total = 0\n",
        "                print('%s (%d %d%%) %.4f' % (timeSince(start, iter / n_iters),\n",
        "                                             iter, iter / n_iters * 100, print_loss_avg))\n",
        "\n",
        "            if iter % plot_every == 0:\n",
        "                plot_loss_avg = plot_loss_total / plot_every\n",
        "                plot_losses.append(plot_loss_avg)\n",
        "                plot_loss_total = 0\n",
        "\n",
        "    showPlot(plot_losses)"
      ],
      "metadata": {
        "id": "cwB0XqNuku4x"
      },
      "execution_count": null,
      "outputs": []
    },
    {
      "cell_type": "code",
      "source": [
        "import matplotlib.pyplot as plt\n",
        "plt.switch_backend('agg')\n",
        "import matplotlib.ticker as ticker\n",
        "import numpy as np\n",
        "\n",
        "\n",
        "def showPlot(points):\n",
        "    plt.figure()\n",
        "    fig, ax = plt.subplots()\n",
        "    # this locator puts ticks at regular intervals\n",
        "    loc = ticker.MultipleLocator(base=0.2)\n",
        "    ax.yaxis.set_major_locator(loc)\n",
        "    plt.plot(points)\n",
        "    plt.show()"
      ],
      "metadata": {
        "id": "YghMwUm6k07p"
      },
      "execution_count": null,
      "outputs": []
    },
    {
      "cell_type": "code",
      "source": [
        "def evaluate(encoder, decoder, sentence, max_length=MAX_LENGTH):\n",
        "    with torch.no_grad():\n",
        "        input_tensor = tensorFromSentence(input_lang, sentence)\n",
        "        input_length = input_tensor.size()[0]\n",
        "        encoder_hidden = encoder.initHidden()\n",
        "\n",
        "        encoder_outputs = torch.zeros(max_length, encoder.hidden_size, device=device)\n",
        "\n",
        "        for ei in range(input_length):\n",
        "            encoder_output, encoder_hidden = encoder(input_tensor[ei],\n",
        "                                                     encoder_hidden)\n",
        "            encoder_outputs[ei] += encoder_output[0, 0]\n",
        "\n",
        "        decoder_input = torch.tensor([[SOS_token]], device=device)  # SOS\n",
        "\n",
        "        decoder_hidden = encoder_hidden\n",
        "\n",
        "        decoded_words = []\n",
        "        decoder_attentions = torch.zeros(max_length, max_length)\n",
        "\n",
        "        for di in range(max_length):\n",
        "            decoder_output, decoder_hidden = decoder(\n",
        "                decoder_input, decoder_hidden)\n",
        "\n",
        "            topv, topi = decoder_output.data.topk(1)\n",
        "            if topi.item() == EOS_token:\n",
        "                decoded_words.append('<EOS>')\n",
        "                break\n",
        "            else:\n",
        "                decoded_words.append(output_lang.index2word[topi.item()])\n",
        "\n",
        "            decoder_input = topi.squeeze().detach()\n",
        "\n",
        "        return decoded_words, decoder_attentions[:di + 1]"
      ],
      "metadata": {
        "id": "KJkzyn_Rk3ZY"
      },
      "execution_count": null,
      "outputs": []
    },
    {
      "cell_type": "code",
      "source": [
        "def evaluateRandomly(encoder, decoder, n=10):\n",
        "    for i in range(n):\n",
        "        pair = random.choice(pairs[math.floor(len(pairs)*0.7):])\n",
        "        print('>', pair[0])\n",
        "        print('=', pair[1])\n",
        "        output_words = evaluate(encoder, decoder, pair[0])\n",
        "        output_sentence = ' '.join(output_words[0])\n",
        "        print('<', output_sentence)\n",
        "        print('')"
      ],
      "metadata": {
        "id": "YfB523C_k6Wk"
      },
      "execution_count": null,
      "outputs": []
    },
    {
      "cell_type": "code",
      "source": [
        "%matplotlib inline"
      ],
      "metadata": {
        "id": "PIEEtTMCk8St"
      },
      "execution_count": null,
      "outputs": []
    },
    {
      "cell_type": "code",
      "source": [
        "hidden_size = 350\n",
        "encoder1 = EncoderRNN(input_lang.n_words, hidden_size).to(device)\n",
        "decoder1 = DecoderRNN(hidden_size, output_lang.n_words).to(device)\n",
        "trainIters(encoder1, decoder1, 10, print_every=2000)"
      ],
      "metadata": {
        "colab": {
          "base_uri": "https://localhost:8080/",
          "height": 1000
        },
        "id": "xSa3GAGdlA-_",
        "outputId": "793e473a-d4a1-4d3f-810f-c7187bb9bd4a"
      },
      "execution_count": null,
      "outputs": [
        {
          "metadata": {
            "tags": null
          },
          "name": "stdout",
          "output_type": "stream",
          "text": [
            "Epoch 1 \n",
            "\n",
            "0m 39s (- 10m 49s) (2000 5%) 6.6288\n",
            "1m 16s (- 9m 44s) (4000 11%) 6.2056\n",
            "1m 52s (- 8m 59s) (6000 17%) 6.0860\n",
            "2m 29s (- 8m 17s) (8000 23%) 5.9750\n",
            "3m 5s (- 7m 38s) (10000 28%) 5.9443\n",
            "3m 41s (- 6m 59s) (12000 34%) 5.8644\n",
            "4m 17s (- 6m 21s) (14000 40%) 5.7750\n",
            "4m 54s (- 5m 44s) (16000 46%) 5.7687\n",
            "5m 30s (- 5m 6s) (18000 51%) 5.6880\n",
            "6m 6s (- 4m 29s) (20000 57%) 5.6000\n",
            "6m 42s (- 3m 52s) (22000 63%) 5.5550\n",
            "7m 18s (- 3m 15s) (24000 69%) 5.5263\n",
            "7m 54s (- 2m 39s) (26000 74%) 5.4832\n",
            "8m 30s (- 2m 2s) (28000 80%) 5.4199\n",
            "9m 6s (- 1m 26s) (30000 86%) 5.3667\n",
            "9m 42s (- 0m 49s) (32000 92%) 5.3917\n",
            "10m 18s (- 0m 13s) (34000 97%) 5.3358\n",
            "Epoch 2 \n",
            "\n",
            "11m 9s (- 182m 39s) (2000 5%) 7.1717\n",
            "11m 46s (- 90m 24s) (4000 11%) 5.1514\n",
            "12m 22s (- 59m 14s) (6000 17%) 5.2016\n",
            "12m 58s (- 43m 20s) (8000 23%) 5.1042\n",
            "13m 34s (- 33m 33s) (10000 28%) 5.1111\n",
            "14m 10s (- 26m 50s) (12000 34%) 5.0501\n",
            "14m 46s (- 21m 52s) (14000 40%) 4.9781\n",
            "15m 22s (- 17m 59s) (16000 46%) 5.0255\n",
            "15m 58s (- 14m 50s) (18000 51%) 4.9878\n",
            "16m 34s (- 12m 12s) (20000 57%) 4.9317\n",
            "17m 10s (- 9m 55s) (22000 63%) 4.9135\n",
            "17m 46s (- 7m 56s) (24000 69%) 4.8132\n",
            "18m 22s (- 6m 9s) (26000 74%) 4.7997\n",
            "18m 58s (- 4m 33s) (28000 80%) 4.7834\n",
            "19m 34s (- 3m 4s) (30000 86%) 4.7772\n",
            "20m 10s (- 1m 43s) (32000 92%) 4.7514\n",
            "20m 46s (- 0m 26s) (34000 97%) 4.6844\n",
            "Epoch 3 \n",
            "\n",
            "21m 37s (- 353m 56s) (2000 5%) 6.3485\n",
            "22m 13s (- 170m 45s) (4000 11%) 4.6624\n",
            "22m 49s (- 109m 17s) (6000 17%) 4.5883\n",
            "23m 25s (- 78m 15s) (8000 23%) 4.6256\n",
            "24m 1s (- 59m 24s) (10000 28%) 4.6173\n",
            "24m 37s (- 46m 38s) (12000 34%) 4.5259\n",
            "25m 13s (- 37m 20s) (14000 40%) 4.5469\n",
            "25m 49s (- 30m 13s) (16000 46%) 4.5080\n",
            "26m 25s (- 24m 33s) (18000 51%) 4.4408\n",
            "27m 1s (- 19m 53s) (20000 57%) 4.4740\n",
            "27m 37s (- 15m 58s) (22000 63%) 4.4485\n",
            "28m 13s (- 12m 36s) (24000 69%) 4.4221\n",
            "28m 49s (- 9m 40s) (26000 74%) 4.3938\n",
            "29m 25s (- 7m 4s) (28000 80%) 4.3933\n",
            "30m 1s (- 4m 43s) (30000 86%) 4.3693\n",
            "30m 38s (- 2m 36s) (32000 92%) 4.3500\n",
            "31m 14s (- 0m 39s) (34000 97%) 4.2890\n",
            "Epoch 4 \n",
            "\n",
            "32m 5s (- 524m 58s) (2000 5%) 5.8235\n",
            "32m 41s (- 251m 3s) (4000 11%) 4.2184\n",
            "33m 17s (- 159m 20s) (6000 17%) 4.1868\n",
            "33m 53s (- 113m 11s) (8000 23%) 4.1610\n",
            "34m 29s (- 85m 15s) (10000 28%) 4.1948\n",
            "35m 5s (- 66m 26s) (12000 34%) 4.1484\n",
            "35m 40s (- 52m 49s) (14000 40%) 4.1262\n",
            "36m 16s (- 42m 27s) (16000 46%) 4.1210\n",
            "36m 53s (- 34m 16s) (18000 51%) 4.0563\n",
            "37m 29s (- 27m 35s) (20000 57%) 4.0739\n",
            "38m 5s (- 22m 1s) (22000 63%) 4.0578\n",
            "38m 41s (- 17m 17s) (24000 69%) 4.0875\n",
            "39m 16s (- 13m 10s) (26000 74%) 3.9739\n",
            "39m 53s (- 9m 34s) (28000 80%) 4.0264\n",
            "40m 29s (- 6m 22s) (30000 86%) 4.0142\n",
            "41m 5s (- 3m 29s) (32000 92%) 3.9977\n",
            "41m 41s (- 0m 53s) (34000 97%) 3.9692\n",
            "Epoch 5 \n",
            "\n",
            "42m 32s (- 695m 57s) (2000 5%) 5.3930\n",
            "43m 8s (- 331m 21s) (4000 11%) 3.9261\n",
            "43m 44s (- 209m 22s) (6000 17%) 3.9674\n",
            "44m 20s (- 148m 5s) (8000 23%) 3.9501\n",
            "44m 55s (- 111m 5s) (10000 28%) 3.8804\n",
            "45m 31s (- 86m 13s) (12000 34%) 3.8319\n",
            "46m 7s (- 68m 17s) (14000 40%) 3.8296\n",
            "46m 43s (- 54m 41s) (16000 46%) 3.8216\n",
            "47m 19s (- 43m 58s) (18000 51%) 3.7709\n",
            "47m 55s (- 35m 17s) (20000 57%) 3.7647\n",
            "48m 31s (- 28m 4s) (22000 63%) 3.8013\n",
            "49m 7s (- 21m 57s) (24000 69%) 3.7408\n",
            "49m 43s (- 16m 41s) (26000 74%) 3.7528\n",
            "50m 19s (- 12m 5s) (28000 80%) 3.7592\n",
            "50m 55s (- 8m 1s) (30000 86%) 3.8210\n",
            "51m 31s (- 4m 23s) (32000 92%) 3.7010\n",
            "52m 7s (- 1m 6s) (34000 97%) 3.7707\n",
            "Epoch 6 \n",
            "\n",
            "52m 58s (- 866m 54s) (2000 5%) 5.0250\n",
            "53m 34s (- 411m 34s) (4000 11%) 3.6711\n",
            "54m 11s (- 259m 23s) (6000 17%) 3.6640\n",
            "54m 47s (- 183m 0s) (8000 23%) 3.6885\n",
            "55m 22s (- 136m 55s) (10000 28%) 3.6862\n",
            "55m 59s (- 106m 0s) (12000 34%) 3.6719\n",
            "56m 35s (- 83m 45s) (14000 40%) 3.6156\n",
            "57m 11s (- 66m 55s) (16000 46%) 3.5268\n",
            "57m 47s (- 53m 41s) (18000 51%) 3.6336\n",
            "58m 23s (- 42m 58s) (20000 57%) 3.5709\n",
            "58m 59s (- 34m 7s) (22000 63%) 3.6089\n",
            "59m 35s (- 26m 37s) (24000 69%) 3.5678\n",
            "60m 11s (- 20m 11s) (26000 74%) 3.5238\n",
            "60m 47s (- 14m 35s) (28000 80%) 3.5279\n",
            "61m 23s (- 9m 40s) (30000 86%) 3.5786\n",
            "61m 59s (- 5m 16s) (32000 92%) 3.5752\n",
            "62m 35s (- 1m 19s) (34000 97%) 3.5672\n",
            "Epoch 7 \n",
            "\n",
            "63m 26s (- 1038m 4s) (2000 5%) 4.8009\n",
            "64m 2s (- 491m 54s) (4000 11%) 3.4944\n",
            "64m 38s (- 309m 28s) (6000 17%) 3.4904\n",
            "65m 14s (- 217m 57s) (8000 23%) 3.4643\n",
            "65m 50s (- 162m 48s) (10000 28%) 3.4956\n",
            "66m 27s (- 125m 50s) (12000 34%) 3.4768\n",
            "67m 3s (- 99m 15s) (14000 40%) 3.4935\n",
            "67m 39s (- 79m 10s) (16000 46%) 3.4599\n",
            "68m 15s (- 63m 24s) (18000 51%) 3.4417\n",
            "68m 51s (- 50m 41s) (20000 57%) 3.4222\n",
            "69m 27s (- 40m 10s) (22000 63%) 3.4414\n",
            "70m 3s (- 31m 18s) (24000 69%) 3.4951\n",
            "70m 39s (- 23m 42s) (26000 74%) 3.4568\n",
            "71m 15s (- 17m 6s) (28000 80%) 3.4122\n",
            "71m 51s (- 11m 18s) (30000 86%) 3.4201\n",
            "72m 27s (- 6m 10s) (32000 92%) 3.3195\n",
            "73m 3s (- 1m 33s) (34000 97%) 3.3993\n",
            "Epoch 8 \n",
            "\n",
            "73m 54s (- 1209m 20s) (2000 5%) 4.5532\n",
            "74m 30s (- 572m 21s) (4000 11%) 3.3779\n",
            "75m 6s (- 359m 36s) (6000 17%) 3.3373\n",
            "75m 42s (- 252m 55s) (8000 23%) 3.3448\n",
            "76m 18s (- 188m 40s) (10000 28%) 3.3385\n",
            "76m 54s (- 145m 38s) (12000 34%) 3.3096\n",
            "77m 30s (- 114m 44s) (14000 40%) 3.2836\n",
            "78m 6s (- 91m 24s) (16000 46%) 3.3467\n",
            "78m 42s (- 73m 7s) (18000 51%) 3.2581\n",
            "79m 18s (- 58m 23s) (20000 57%) 3.2902\n",
            "79m 54s (- 46m 13s) (22000 63%) 3.3003\n",
            "80m 31s (- 35m 58s) (24000 69%) 3.2434\n",
            "81m 7s (- 27m 13s) (26000 74%) 3.2389\n",
            "81m 43s (- 19m 37s) (28000 80%) 3.2797\n",
            "82m 19s (- 12m 57s) (30000 86%) 3.3222\n",
            "82m 55s (- 7m 3s) (32000 92%) 3.2477\n",
            "83m 31s (- 1m 46s) (34000 97%) 3.2540\n",
            "Epoch 9 \n",
            "\n",
            "84m 23s (- 1380m 41s) (2000 5%) 4.4035\n",
            "84m 59s (- 652m 47s) (4000 11%) 3.2527\n",
            "85m 35s (- 409m 44s) (6000 17%) 3.1977\n",
            "86m 11s (- 287m 55s) (8000 23%) 3.1879\n",
            "86m 47s (- 214m 35s) (10000 28%) 3.1270\n",
            "87m 23s (- 165m 29s) (12000 34%) 3.1506\n",
            "88m 0s (- 130m 15s) (14000 40%) 3.1704\n",
            "88m 36s (- 103m 41s) (16000 46%) 3.2023\n",
            "89m 12s (- 82m 52s) (18000 51%) 3.1666\n",
            "89m 48s (- 66m 7s) (20000 57%) 3.1002\n",
            "90m 24s (- 52m 17s) (22000 63%) 3.1405\n",
            "91m 0s (- 40m 40s) (24000 69%) 3.0754\n",
            "91m 36s (- 30m 44s) (26000 74%) 3.1094\n",
            "92m 13s (- 22m 8s) (28000 80%) 3.1051\n",
            "92m 49s (- 14m 36s) (30000 86%) 3.1023\n",
            "93m 25s (- 7m 57s) (32000 92%) 3.1341\n",
            "94m 1s (- 2m 0s) (34000 97%) 3.1107\n",
            "Epoch 10 \n",
            "\n",
            "94m 53s (- 1552m 28s) (2000 5%) 4.1643\n",
            "95m 29s (- 733m 27s) (4000 11%) 3.0670\n",
            "96m 5s (- 460m 2s) (6000 17%) 3.0082\n",
            "96m 42s (- 323m 2s) (8000 23%) 2.9682\n",
            "97m 18s (- 240m 34s) (10000 28%) 3.0719\n",
            "97m 54s (- 185m 23s) (12000 34%) 3.0300\n",
            "98m 30s (- 145m 48s) (14000 40%) 2.9683\n",
            "99m 6s (- 115m 58s) (16000 46%) 3.0364\n",
            "99m 42s (- 92m 38s) (18000 51%) 2.9672\n",
            "100m 18s (- 73m 50s) (20000 57%) 3.0255\n",
            "100m 54s (- 58m 21s) (22000 63%) 2.9897\n",
            "101m 30s (- 45m 21s) (24000 69%) 2.9783\n",
            "102m 6s (- 34m 15s) (26000 74%) 3.0074\n",
            "102m 42s (- 24m 39s) (28000 80%) 2.9173\n",
            "103m 18s (- 16m 16s) (30000 86%) 2.9261\n",
            "103m 54s (- 8m 50s) (32000 92%) 2.8952\n",
            "104m 30s (- 2m 13s) (34000 97%) 2.8582\n"
          ]
        },
        {
          "data": {
            "text/plain": [
              "<Figure size 432x288 with 0 Axes>"
            ]
          },
          "metadata": {},
          "output_type": "display_data"
        },
        {
          "data": {
            "image/png": "[encoded data removed]",
            "text/plain": [
              "<Figure size 432x288 with 1 Axes>"
            ]
          },
          "metadata": {},
          "output_type": "display_data"
        }
      ]
    },
    {
      "cell_type": "code",
      "source": [
        "evaluateRandomly(encoder1, decoder1)"
      ],
      "metadata": {
        "colab": {
          "base_uri": "https://localhost:8080/"
        },
        "id": "hVY6pMJjlINK",
        "outputId": "5f2050c1-ddb7-48a9-ce21-f9d894243029"
      },
      "execution_count": null,
      "outputs": [
        {
          "output_type": "stream",
          "name": "stdout",
          "text": [
            "> بپاسخ گشادند یکسر زبان\n",
            "= که ای نامور پرهنر پهلوان\n",
            "< اگر چند باشد به هر کار یار <EOS>\n",
            "\n",
            "> ز کار جهان یکسر آگه کنید\n",
            "= دلم را سوی روشنی ره کنید\n",
            "< ز دیدار او را به هامون کنید <EOS>\n",
            "\n",
            "> ورا نامور خواندی نوش زاد\n",
            "= نجستی ز ناز از برش تندباد\n",
            "< سواری دلاور به در دم <EOS>\n",
            "\n",
            "> جهانجوی با آن دو خسرو پرست\n",
            "= گرفت از پی و از برسم بدست\n",
            "< به دست دگر دست کرده دست <EOS>\n",
            "\n",
            "> پس اندر همی راند بهرام نرم\n",
            "= برو بارگی را نکرد ایچ گرم\n",
            "< یک یک هفته با او براه و گرم <EOS>\n",
            "\n",
            "> به بندوی و گستهم گفت آن زمان\n",
            "= که اکنون شدم زین سخن بدگمان\n",
            "< که بر شیر بد بدگمان را گمان <EOS>\n",
            "\n",
            "> به نرسی چنین گفت یک روز شاه\n",
            "= کز ایدر برو با نگین و کلاه\n",
            "< که چون او گشت با او براه <EOS>\n",
            "\n",
            "> ازان پس به بندوی و گستهم گفت\n",
            "= که بگشایم این داستان از نهفت\n",
            "< که این را سر اندر نهفت <EOS>\n",
            "\n",
            "> که برکس نماند همی زور و بخت\n",
            "= نه گنج و نه دیهیم شاهی نه تخت\n",
            "< نه شاهی نه تخت و نه تاج و نه تاج و نه تخت <EOS>\n",
            "\n",
            "> خرد مرد راخلعت ایزدیست\n",
            "= سزاوار خلعت نگه کن که کیست\n",
            "< سیاوش ز هر دو همی <EOS>\n",
            "\n"
          ]
        }
      ]
    }
  ]
}